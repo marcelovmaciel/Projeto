{
  "cells": [
    {
      "cell_type": "code",
      "source": [
        "include(\"Coda.jl\")"
      ],
      "outputs": [
        {
          "output_type": "stream",
          "name": "stderr",
          "text": [
            "\u001b[1m\u001b[36mINFO: \u001b[39m\u001b[22m\u001b[36mRecompiling stale cache file /home/marcelovmaciel/.julia/lib/v0.6/SpecialFunctions.ji for module SpecialFunctions.\n",
            "\u001b[39m\u001b[1m\u001b[36mINFO: \u001b[39m\u001b[22m\u001b[36mRecompiling stale cache file /home/marcelovmaciel/.julia/lib/v0.6/Distributions.ji for module Distributions.\n",
            "\u001b[39m\u001b[1m\u001b[36mINFO: \u001b[39m\u001b[22m\u001b[36mRecompiling stale cache file /home/marcelovmaciel/.julia/lib/v0.6/DataArrays.ji for module DataArrays.\n",
            "\u001b[39m\u001b[1m\u001b[36mINFO: \u001b[39m\u001b[22m\u001b[36mRecompiling stale cache file /home/marcelovmaciel/.julia/lib/v0.6/DataFrames.ji for module DataFrames.\n",
            "\u001b[39m"
          ]
        },
        {
          "output_type": "execute_result",
          "execution_count": 7,
          "data": {
            "text/plain": [
              "Coda"
            ]
          },
          "metadata": {}
        }
      ],
      "execution_count": 7,
      "metadata": {
        "collapsed": false,
        "outputHidden": false,
        "inputHidden": false
      }
    },
    {
      "cell_type": "code",
      "source": [
        "using Coda\n",
        "using DataFrames"
      ],
      "outputs": [],
      "execution_count": 13,
      "metadata": {
        "collapsed": false,
        "outputHidden": false,
        "inputHidden": false
      }
    },
    {
      "cell_type": "code",
      "source": [
        "result = run_simulation_v2(size_nw = 500, p =  0.7, σ =  0.5, time =  10000);\n"
      ],
      "outputs": [],
      "execution_count": 10,
      "metadata": {
        "collapsed": false,
        "outputHidden": false,
        "inputHidden": false
      }
    },
    {
      "cell_type": "code",
      "source": [
        "head(result)\n"
      ],
      "outputs": [
        {
          "output_type": "execute_result",
          "execution_count": 16,
          "data": {
            "text/plain": [
              "6×4 DataFrames.DataFrame\n",
              "│ Row │ time │ opinion  │ uncertainty │ id  │\n",
              "├─────┼──────┼──────────┼─────────────┼─────┤\n",
              "│ 1   │ 0.0  │ 0.150627 │ 0.5         │ 1.0 │\n",
              "│ 2   │ 0.0  │ 0.867093 │ 0.5         │ 2.0 │\n",
              "│ 3   │ 0.0  │ 0.634777 │ 0.5         │ 3.0 │\n",
              "│ 4   │ 0.0  │ 0.244616 │ 0.5         │ 4.0 │\n",
              "│ 5   │ 0.0  │ 0.241494 │ 0.5         │ 5.0 │\n",
              "│ 6   │ 0.0  │ 0.986793 │ 0.5         │ 6.0 │"
            ],
            "text/html": [
              "<table class=\"data-frame\"><thead><tr><th></th><th>time</th><th>opinion</th><th>uncertainty</th><th>id</th></tr></thead><tbody><tr><th>1</th><td>0.0</td><td>0.15062677054887486</td><td>0.5</td><td>1.0</td></tr><tr><th>2</th><td>0.0</td><td>0.8670934049557375</td><td>0.5</td><td>2.0</td></tr><tr><th>3</th><td>0.0</td><td>0.6347773113156276</td><td>0.5</td><td>3.0</td></tr><tr><th>4</th><td>0.0</td><td>0.24461640888580516</td><td>0.5</td><td>4.0</td></tr><tr><th>5</th><td>0.0</td><td>0.24149429505344955</td><td>0.5</td><td>5.0</td></tr><tr><th>6</th><td>0.0</td><td>0.9867927148671889</td><td>0.5</td><td>6.0</td></tr></tbody></table>"
            ]
          },
          "metadata": {}
        }
      ],
      "execution_count": 16,
      "metadata": {
        "collapsed": false,
        "outputHidden": false,
        "inputHidden": false
      }
    },
    {
      "cell_type": "code",
      "source": [
        "tail(result)"
      ],
      "outputs": [
        {
          "output_type": "execute_result",
          "execution_count": 17,
          "data": {
            "text/plain": [
              "6×4 DataFrames.DataFrame\n",
              "│ Row │ time    │ opinion  │ uncertainty │ id    │\n",
              "├─────┼─────────┼──────────┼─────────────┼───────┤\n",
              "│ 1   │ 10000.0 │ 0.493208 │ 0.00178314  │ 495.0 │\n",
              "│ 2   │ 10000.0 │ 0.488125 │ 0.00140455  │ 496.0 │\n",
              "│ 3   │ 10000.0 │ 0.492352 │ 0.0010831   │ 497.0 │\n",
              "│ 4   │ 10000.0 │ 0.492096 │ 0.00105087  │ 498.0 │\n",
              "│ 5   │ 10000.0 │ 0.495079 │ 0.00163016  │ 499.0 │\n",
              "│ 6   │ 10000.0 │ 0.5016   │ 0.00532094  │ 500.0 │"
            ],
            "text/html": [
              "<table class=\"data-frame\"><thead><tr><th></th><th>time</th><th>opinion</th><th>uncertainty</th><th>id</th></tr></thead><tbody><tr><th>1</th><td>10000.0</td><td>0.4932082102287811</td><td>0.0017831430444461812</td><td>495.0</td></tr><tr><th>2</th><td>10000.0</td><td>0.4881251808762106</td><td>0.0014045491549208552</td><td>496.0</td></tr><tr><th>3</th><td>10000.0</td><td>0.49235204195493326</td><td>0.001083101996537668</td><td>497.0</td></tr><tr><th>4</th><td>10000.0</td><td>0.4920955582010762</td><td>0.001050866587173288</td><td>498.0</td></tr><tr><th>5</th><td>10000.0</td><td>0.4950793518455499</td><td>0.0016301633721618103</td><td>499.0</td></tr><tr><th>6</th><td>10000.0</td><td>0.5016001763162825</td><td>0.005320935381928387</td><td>500.0</td></tr></tbody></table>"
            ]
          },
          "metadata": {}
        }
      ],
      "execution_count": 17,
      "metadata": {
        "collapsed": false,
        "outputHidden": false,
        "inputHidden": false
      }
    }
  ],
  "metadata": {
    "kernelspec": {
      "name": "julia-0.6",
      "language": "julia",
      "display_name": "Julia 0.6.0"
    },
    "kernel_info": {
      "name": "julia-0.6"
    },
    "language_info": {
      "file_extension": ".jl",
      "name": "julia",
      "mimetype": "application/julia",
      "version": "0.6.0"
    },
    "nteract": {
      "version": "0.2.0"
    }
  },
  "nbformat": 4,
  "nbformat_minor": 4
}