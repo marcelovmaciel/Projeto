{
 "cells": [
  {
   "cell_type": "code",
   "execution_count": 1,
   "metadata": {
    "inputHidden": false,
    "outputHidden": false
   },
   "outputs": [
    {
     "data": {
      "text/plain": [
       "MyModel"
      ]
     },
     "execution_count": 1,
     "metadata": {},
     "output_type": "execute_result"
    }
   ],
   "source": [
    "include(\"MyModel.jl\") "
   ]
  },
  {
   "cell_type": "code",
   "execution_count": 2,
   "metadata": {
    "inputHidden": false,
    "outputHidden": false
   },
   "outputs": [
    {
     "data": {
      "text/plain": [
       "Plots.GRBackend()"
      ]
     },
     "execution_count": 2,
     "metadata": {},
     "output_type": "execute_result"
    }
   ],
   "source": [
    "using MyModel, StatPlots, Uhlarm, PyCall, DataFrames\n",
    "import Seaborn\n",
    "\n",
    "@pyimport pandas as pd\n",
    "inspectdr(legend = false)\n",
    "\n"
   ]
  },
  {
   "cell_type": "code",
   "execution_count": 3,
   "metadata": {
    "inputHidden": false,
    "outputHidden": false
   },
   "outputs": [
    {
     "data": {
      "text/html": [
       "<table class=\"data-frame\"><thead><tr><th></th><th>time</th><th>ideal_point</th><th>id</th></tr></thead><tbody><tr><th>1</th><td>0</td><td>0.7117484172321333</td><td>1</td></tr><tr><th>2</th><td>0</td><td>0.31768227255192416</td><td>2</td></tr><tr><th>3</th><td>0</td><td>0.551095684070759</td><td>3</td></tr><tr><th>4</th><td>0</td><td>0.9523471123412177</td><td>4</td></tr><tr><th>5</th><td>0</td><td>0.3435141403290791</td><td>5</td></tr><tr><th>6</th><td>0</td><td>0.027875165756651166</td><td>6</td></tr><tr><th>7</th><td>0</td><td>0.25089129019223666</td><td>7</td></tr><tr><th>8</th><td>0</td><td>0.08896229552389512</td><td>8</td></tr><tr><th>9</th><td>0</td><td>0.18193542487492897</td><td>9</td></tr><tr><th>10</th><td>0</td><td>0.6263775336975466</td><td>10</td></tr><tr><th>11</th><td>0</td><td>0.7021164048772828</td><td>11</td></tr><tr><th>12</th><td>0</td><td>0.25281976356277536</td><td>12</td></tr><tr><th>13</th><td>0</td><td>0.8317184736200858</td><td>13</td></tr><tr><th>14</th><td>0</td><td>0.03383007666672966</td><td>14</td></tr><tr><th>15</th><td>0</td><td>0.11210759841446061</td><td>15</td></tr><tr><th>16</th><td>0</td><td>0.95715432376449</td><td>16</td></tr><tr><th>17</th><td>0</td><td>0.928840658761918</td><td>17</td></tr><tr><th>18</th><td>0</td><td>0.352514016132192</td><td>18</td></tr><tr><th>19</th><td>0</td><td>0.04326992197598556</td><td>19</td></tr><tr><th>&vellip;</th><td>&vellip;</td><td>&vellip;</td><td>&vellip;</td></tr></tbody></table>"
      ],
      "text/plain": [
       "5000500×3 DataFrames.DataFrame\n",
       "│ Row     │ time  │ ideal_point │ id  │\n",
       "├─────────┼───────┼─────────────┼─────┤\n",
       "│ 1       │ 0     │ 0.711748    │ 1   │\n",
       "│ 2       │ 0     │ 0.317682    │ 2   │\n",
       "│ 3       │ 0     │ 0.551096    │ 3   │\n",
       "│ 4       │ 0     │ 0.952347    │ 4   │\n",
       "│ 5       │ 0     │ 0.343514    │ 5   │\n",
       "│ 6       │ 0     │ 0.0278752   │ 6   │\n",
       "⋮\n",
       "│ 5000494 │ 10000 │ 0.299148    │ 494 │\n",
       "│ 5000495 │ 10000 │ 0.661235    │ 495 │\n",
       "│ 5000496 │ 10000 │ 0.224678    │ 496 │\n",
       "│ 5000497 │ 10000 │ 0.584408    │ 497 │\n",
       "│ 5000498 │ 10000 │ 0.163154    │ 498 │\n",
       "│ 5000499 │ 10000 │ 0.341163    │ 499 │\n",
       "│ 5000500 │ 10000 │ 0.994994    │ 500 │"
      ]
     },
     "execution_count": 3,
     "metadata": {},
     "output_type": "execute_result"
    }
   ],
   "source": [
    "run_simulation_v1()\n",
    "\n",
    "result = run_simulation_v1(n_issues = 1,   \n",
    "                           size_nw = 500, p =  0.99,\n",
    "                           σ =  0.1, time =  10^5,  ρ = 0.00001)\n",
    "\n",
    "@uhlarm result\n"
   ]
  },
  {
   "cell_type": "code",
   "execution_count": 7,
   "metadata": {
    "inputHidden": false,
    "outputHidden": false,
    "scrolled": true
   },
   "outputs": [
    {
     "data": {
      "text/html": [
       "<table class=\"data-frame\"><thead><tr><th></th><th>time</th><th>ideal_point</th><th>id</th></tr></thead><tbody><tr><th>1</th><td>10500</td><td>0.495232864518157</td><td>495</td></tr><tr><th>2</th><td>10500</td><td>0.49261450511921834</td><td>496</td></tr><tr><th>3</th><td>10500</td><td>0.48949513345096296</td><td>497</td></tr><tr><th>4</th><td>10500</td><td>0.4906371460657731</td><td>498</td></tr><tr><th>5</th><td>10500</td><td>0.48683806148378395</td><td>499</td></tr><tr><th>6</th><td>10500</td><td>0.49638225302511224</td><td>500</td></tr></tbody></table>"
      ],
      "text/plain": [
       "6×3 DataFrames.DataFrame\n",
       "│ Row │ time  │ ideal_point │ id  │\n",
       "├─────┼───────┼─────────────┼─────┤\n",
       "│ 1   │ 10500 │ 0.495233    │ 495 │\n",
       "│ 2   │ 10500 │ 0.492615    │ 496 │\n",
       "│ 3   │ 10500 │ 0.489495    │ 497 │\n",
       "│ 4   │ 10500 │ 0.490637    │ 498 │\n",
       "│ 5   │ 10500 │ 0.486838    │ 499 │\n",
       "│ 6   │ 10500 │ 0.496382    │ 500 │"
      ]
     },
     "execution_count": 7,
     "metadata": {},
     "output_type": "execute_result"
    }
   ],
   "source": [
    "#head(result)\n",
    "tail(result)\n",
    "#showcols(result)"
   ]
  },
  {
   "cell_type": "code",
   "execution_count": null,
   "metadata": {},
   "outputs": [],
   "source": [
    "writetable(\"output.csv\", result)\n",
    "resultcsv = pd.read_csv(\"output.csv\")\n",
    "\n",
    "@time g = Seaborn.tsplot(time = \"time\", value = \"ideal_point\",\n",
    "    data= resultcsv, unit = \"id\", err_style=\"unit_traces\")"
   ]
  },
  {
   "cell_type": "code",
   "execution_count": null,
   "metadata": {
    "inputHidden": false,
    "outputHidden": false
   },
   "outputs": [
    {
     "name": "stderr",
     "output_type": "stream",
     "text": [
      "\u001b[1m\u001b[33mWARNING: \u001b[39m\u001b[22m\u001b[33mYou created n=500 groups... Is that intended?\u001b[39m\n"
     ]
    }
   ],
   "source": [
    "@df result plot(:time,[:ideal_point], group = :id);\n",
    "savefig(\"agentTime.png\")\n",
    "\n",
    "println(\" \")\n",
    "\n",
    "@uhlarm println(\"saved fig\")\n",
    "\n"
   ]
  },
  {
   "cell_type": "code",
   "execution_count": 4,
   "metadata": {
    "inputHidden": false,
    "outputHidden": false
   },
   "outputs": [
    {
     "name": "stdout",
     "output_type": "stream",
     "text": [
      "  6.834418 seconds (51.00 M allocations: 1.392 GiB)\n"
     ]
    }
   ],
   "source": [
    "#=using PyCall\n",
    "using Seaborn\n",
    "@pyimport pandas as pd\n",
    "\n",
    "\n",
    "@time writetable(\"output.csv\", result)\n",
    "@time resultcsv = pd.read_csv(\"output.csv\")\n",
    "\n",
    "@time g = tsplot(time = \"time\", value = \"ideal_point\", data= resultcsv, unit = \"id\", err_style=\"unit_traces\")\n",
    "#  err_style = \"unit_points\" or \"unit_traces\"\n",
    "#resultcsv = readtable(\"output.csv\")\n",
    "#@code_warntype run_simulation_v2()\n",
    "=#"
   ]
  },
  {
   "cell_type": "code",
   "execution_count": 8,
   "metadata": {
    "inputHidden": false,
    "outputHidden": false
   },
   "outputs": [],
   "source": []
  }
 ],
 "metadata": {
  "kernel_info": {
   "name": "julia-0.6"
  },
  "kernelspec": {
   "display_name": "Julia 0.6.0",
   "language": "julia",
   "name": "julia-0.6"
  },
  "language_info": {
   "file_extension": ".jl",
   "mimetype": "application/julia",
   "name": "julia",
   "version": "0.6.0"
  },
  "nteract": {
   "version": "0.3.1"
  }
 },
 "nbformat": 4,
 "nbformat_minor": 4
}
