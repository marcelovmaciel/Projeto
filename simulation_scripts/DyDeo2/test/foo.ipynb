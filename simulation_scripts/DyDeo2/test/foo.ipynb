{
 "cells": [
  {
   "cell_type": "code",
   "execution_count": 1,
   "metadata": {},
   "outputs": [],
   "source": [
    "include(\"../src/DyDeo2.jl\")\n",
    "\n",
    "\n",
    "using Revise\n",
    "import DyDeo2\n",
    "const dd = DyDeo2\n",
    "using LightGraphs: CompleteGraph"
   ]
  },
  {
   "cell_type": "code",
   "execution_count": 2,
   "metadata": {},
   "outputs": [],
   "source": [
    "pop = dd.listofagents(\"mutating o\", 0.01,5,100)\n",
    "\n",
    "\n",
    "nw = dd.creategraphfrompop(pop,CompleteGraph)\n",
    "\n",
    "\n",
    "dd.add_neighbors!(pop,nw)"
   ]
  },
  {
   "cell_type": "code",
   "execution_count": 3,
   "metadata": {},
   "outputs": [
    {
     "data": {
      "text/plain": [
       "100-element Array{DyDeo2.Agent_o{Int64,Array{DyDeo2.Belief{Float64,Int64},1},Float64,Array{Int64,1}},1}:\n",
       " DyDeo2.Agent_o{Int64,Array{DyDeo2.Belief{Float64,Int64},1},Float64,Array{Int64,1}}(1, DyDeo2.Belief{Float64,Int64}[DyDeo2.Belief{Float64,Int64}(0.915509, 0.01, 1), DyDeo2.Belief{Float64,Int64}(0.387892, 0.01, 2), DyDeo2.Belief{Float64,Int64}(0.382831, 0.01, 3), DyDeo2.Belief{Float64,Int64}(0.327357, 0.01, 4), DyDeo2.Belief{Float64,Int64}(0.628351, 0.01, 5)], 0.528388, [2, 3, 4, 5, 6, 7, 8, 9, 10, 11  …  91, 92, 93, 94, 95, 96, 97, 98, 99, 100]) \n",
       " DyDeo2.Agent_o{Int64,Array{DyDeo2.Belief{Float64,Int64},1},Float64,Array{Int64,1}}(2, DyDeo2.Belief{Float64,Int64}[DyDeo2.Belief{Float64,Int64}(0.777365, 0.01, 1), DyDeo2.Belief{Float64,Int64}(0.119208, 0.01, 2), DyDeo2.Belief{Float64,Int64}(0.883753, 0.01, 3), DyDeo2.Belief{Float64,Int64}(0.27948, 0.01, 4), DyDeo2.Belief{Float64,Int64}(0.0160911, 0.01, 5)], 0.41518, [1, 3, 4, 5, 6, 7, 8, 9, 10, 11  …  91, 92, 93, 94, 95, 96, 97, 98, 99, 100])  \n",
       " DyDeo2.Agent_o{Int64,Array{DyDeo2.Belief{Float64,Int64},1},Float64,Array{Int64,1}}(3, DyDeo2.Belief{Float64,Int64}[DyDeo2.Belief{Float64,Int64}(0.499998, 0.01, 1), DyDeo2.Belief{Float64,Int64}(0.254562, 0.01, 2), DyDeo2.Belief{Float64,Int64}(0.85831, 0.01, 3), DyDeo2.Belief{Float64,Int64}(0.160149, 0.01, 4), DyDeo2.Belief{Float64,Int64}(0.463219, 0.01, 5)], 0.447247, [1, 2, 4, 5, 6, 7, 8, 9, 10, 11  …  91, 92, 93, 94, 95, 96, 97, 98, 99, 100])  \n",
       " DyDeo2.Agent_o{Int64,Array{DyDeo2.Belief{Float64,Int64},1},Float64,Array{Int64,1}}(4, DyDeo2.Belief{Float64,Int64}[DyDeo2.Belief{Float64,Int64}(0.721754, 0.01, 1), DyDeo2.Belief{Float64,Int64}(0.384484, 0.01, 2), DyDeo2.Belief{Float64,Int64}(0.746, 0.01, 3), DyDeo2.Belief{Float64,Int64}(0.762269, 0.01, 4), DyDeo2.Belief{Float64,Int64}(0.764551, 0.01, 5)], 0.675812, [1, 2, 3, 5, 6, 7, 8, 9, 10, 11  …  91, 92, 93, 94, 95, 96, 97, 98, 99, 100])    \n",
       " DyDeo2.Agent_o{Int64,Array{DyDeo2.Belief{Float64,Int64},1},Float64,Array{Int64,1}}(5, DyDeo2.Belief{Float64,Int64}[DyDeo2.Belief{Float64,Int64}(0.872795, 0.01, 1), DyDeo2.Belief{Float64,Int64}(0.723322, 0.01, 2), DyDeo2.Belief{Float64,Int64}(0.969173, 0.01, 3), DyDeo2.Belief{Float64,Int64}(0.451139, 0.01, 4), DyDeo2.Belief{Float64,Int64}(0.159325, 0.01, 5)], 0.635151, [1, 2, 3, 4, 6, 7, 8, 9, 10, 11  …  91, 92, 93, 94, 95, 96, 97, 98, 99, 100]) \n",
       " ⋮                                                                                                                                                                                                                                                                                                                                                                                                                                                                \n",
       " DyDeo2.Agent_o{Int64,Array{DyDeo2.Belief{Float64,Int64},1},Float64,Array{Int64,1}}(96, DyDeo2.Belief{Float64,Int64}[DyDeo2.Belief{Float64,Int64}(0.733398, 0.01, 1), DyDeo2.Belief{Float64,Int64}(0.406091, 0.01, 2), DyDeo2.Belief{Float64,Int64}(0.442898, 0.01, 3), DyDeo2.Belief{Float64,Int64}(0.0902858, 0.01, 4), DyDeo2.Belief{Float64,Int64}(0.219226, 0.01, 5)], 0.37838, [1, 2, 3, 4, 5, 6, 7, 8, 9, 10  …  90, 91, 92, 93, 94, 95, 97, 98, 99, 100]) \n",
       " DyDeo2.Agent_o{Int64,Array{DyDeo2.Belief{Float64,Int64},1},Float64,Array{Int64,1}}(97, DyDeo2.Belief{Float64,Int64}[DyDeo2.Belief{Float64,Int64}(0.0546513, 0.01, 1), DyDeo2.Belief{Float64,Int64}(0.845371, 0.01, 2), DyDeo2.Belief{Float64,Int64}(0.625124, 0.01, 3), DyDeo2.Belief{Float64,Int64}(0.382245, 0.01, 4), DyDeo2.Belief{Float64,Int64}(0.463125, 0.01, 5)], 0.474103, [1, 2, 3, 4, 5, 6, 7, 8, 9, 10  …  90, 91, 92, 93, 94, 95, 96, 98, 99, 100])\n",
       " DyDeo2.Agent_o{Int64,Array{DyDeo2.Belief{Float64,Int64},1},Float64,Array{Int64,1}}(98, DyDeo2.Belief{Float64,Int64}[DyDeo2.Belief{Float64,Int64}(0.0486733, 0.01, 1), DyDeo2.Belief{Float64,Int64}(0.518141, 0.01, 2), DyDeo2.Belief{Float64,Int64}(0.965788, 0.01, 3), DyDeo2.Belief{Float64,Int64}(0.31963, 0.01, 4), DyDeo2.Belief{Float64,Int64}(0.296182, 0.01, 5)], 0.429683, [1, 2, 3, 4, 5, 6, 7, 8, 9, 10  …  90, 91, 92, 93, 94, 95, 96, 97, 99, 100]) \n",
       " DyDeo2.Agent_o{Int64,Array{DyDeo2.Belief{Float64,Int64},1},Float64,Array{Int64,1}}(99, DyDeo2.Belief{Float64,Int64}[DyDeo2.Belief{Float64,Int64}(0.57849, 0.01, 1), DyDeo2.Belief{Float64,Int64}(0.142147, 0.01, 2), DyDeo2.Belief{Float64,Int64}(0.558365, 0.01, 3), DyDeo2.Belief{Float64,Int64}(0.0651666, 0.01, 4), DyDeo2.Belief{Float64,Int64}(0.953526, 0.01, 5)], 0.459539, [1, 2, 3, 4, 5, 6, 7, 8, 9, 10  …  90, 91, 92, 93, 94, 95, 96, 97, 98, 100]) \n",
       " DyDeo2.Agent_o{Int64,Array{DyDeo2.Belief{Float64,Int64},1},Float64,Array{Int64,1}}(100, DyDeo2.Belief{Float64,Int64}[DyDeo2.Belief{Float64,Int64}(0.519691, 0.01, 1), DyDeo2.Belief{Float64,Int64}(0.785166, 0.01, 2), DyDeo2.Belief{Float64,Int64}(0.355072, 0.01, 3), DyDeo2.Belief{Float64,Int64}(0.404501, 0.01, 4), DyDeo2.Belief{Float64,Int64}(0.938185, 0.01, 5)], 0.600523, [1, 2, 3, 4, 5, 6, 7, 8, 9, 10  …  90, 91, 92, 93, 94, 95, 96, 97, 98, 99]) "
      ]
     },
     "execution_count": 3,
     "metadata": {},
     "output_type": "execute_result"
    }
   ],
   "source": [
    "pop"
   ]
  },
  {
   "cell_type": "code",
   "execution_count": 4,
   "metadata": {},
   "outputs": [
    {
     "data": {
      "text/plain": [
       "DyDeo2.Agent_o{Int64,Array{DyDeo2.Belief{Float64,Int64},1},Float64,Array{Int64,1}}(1, DyDeo2.Belief{Float64,Int64}[DyDeo2.Belief{Float64,Int64}(0.915509, 0.01, 1), DyDeo2.Belief{Float64,Int64}(0.387892, 0.01, 2), DyDeo2.Belief{Float64,Int64}(0.382831, 0.01, 3), DyDeo2.Belief{Float64,Int64}(0.327357, 0.01, 4), DyDeo2.Belief{Float64,Int64}(0.628351, 0.01, 5)], 0.5283878726022335, [2, 3, 4, 5, 6, 7, 8, 9, 10, 11  …  91, 92, 93, 94, 95, 96, 97, 98, 99, 100])"
      ]
     },
     "execution_count": 4,
     "metadata": {},
     "output_type": "execute_result"
    }
   ],
   "source": [
    "pop[1]"
   ]
  },
  {
   "cell_type": "code",
   "execution_count": 5,
   "metadata": {},
   "outputs": [
    {
     "data": {
      "text/plain": [
       "5-element Array{DyDeo2.Belief{Float64,Int64},1}:\n",
       " DyDeo2.Belief{Float64,Int64}(0.915509, 0.01, 1)\n",
       " DyDeo2.Belief{Float64,Int64}(0.387892, 0.01, 2)\n",
       " DyDeo2.Belief{Float64,Int64}(0.382831, 0.01, 3)\n",
       " DyDeo2.Belief{Float64,Int64}(0.327357, 0.01, 4)\n",
       " DyDeo2.Belief{Float64,Int64}(0.628351, 0.01, 5)"
      ]
     },
     "execution_count": 5,
     "metadata": {},
     "output_type": "execute_result"
    }
   ],
   "source": [
    "pop[1].ideo\n"
   ]
  },
  {
   "cell_type": "code",
   "execution_count": 6,
   "metadata": {},
   "outputs": [
    {
     "data": {
      "text/plain": [
       "DyDeo2.Agent_o{Int64,Array{DyDeo2.Belief{Float64,Int64},1},Float64,Array{Int64,1}}(53, DyDeo2.Belief{Float64,Int64}[DyDeo2.Belief{Float64,Int64}(0.0465517, 0.01, 1), DyDeo2.Belief{Float64,Int64}(0.0732058, 0.01, 2), DyDeo2.Belief{Float64,Int64}(0.903215, 0.01, 3), DyDeo2.Belief{Float64,Int64}(0.53101, 0.01, 4), DyDeo2.Belief{Float64,Int64}(0.605549, 0.01, 5)], 0.43190630590402695, [1, 2, 3, 4, 5, 6, 7, 8, 9, 10  …  91, 92, 93, 94, 95, 96, 97, 98, 99, 100])"
      ]
     },
     "execution_count": 6,
     "metadata": {},
     "output_type": "execute_result"
    }
   ],
   "source": [
    "pop1j = dd.getjtointeract(pop[1],pop)"
   ]
  },
  {
   "cell_type": "code",
   "execution_count": 7,
   "metadata": {},
   "outputs": [
    {
     "data": {
      "text/plain": [
       "53"
      ]
     },
     "execution_count": 7,
     "metadata": {},
     "output_type": "execute_result"
    }
   ],
   "source": [
    "pop1j.id"
   ]
  },
  {
   "cell_type": "code",
   "execution_count": 8,
   "metadata": {},
   "outputs": [
    {
     "data": {
      "text/plain": [
       "5"
      ]
     },
     "execution_count": 8,
     "metadata": {},
     "output_type": "execute_result"
    }
   ],
   "source": [
    "length(pop[1].ideo)"
   ]
  },
  {
   "cell_type": "code",
   "execution_count": 9,
   "metadata": {},
   "outputs": [
    {
     "data": {
      "text/plain": [
       "(5, DyDeo2.Belief{Float64,Int64}(0.6283513084902417, 0.01, 5), DyDeo2.Belief{Float64,Int64}(0.6283513084902417, 0.01, 5))"
      ]
     },
     "execution_count": 9,
     "metadata": {},
     "output_type": "execute_result"
    }
   ],
   "source": [
    "dd.pick_issuebelief(pop[1], pop1j)"
   ]
  },
  {
   "cell_type": "code",
   "execution_count": 11,
   "metadata": {},
   "outputs": [
    {
     "ename": "LoadError",
     "evalue": "\u001b[91mKeyError: key :DyDeo2 not found\u001b[39m",
     "output_type": "error",
     "traceback": [
      "\u001b[91mKeyError: key :DyDeo2 not found\u001b[39m",
      "",
      "Stacktrace:",
      " [1] \u001b[1mgetindex\u001b[22m\u001b[22m at \u001b[1m./dict.jl:474\u001b[22m\u001b[22m [inlined]",
      " [2] \u001b[1mrevise\u001b[22m\u001b[22m\u001b[1m(\u001b[22m\u001b[22m::Module\u001b[1m)\u001b[22m\u001b[22m at \u001b[1m/home/marcelovmaciel/.julia/v0.6/Revise/src/Revise.jl:648\u001b[22m\u001b[22m",
      " [3] \u001b[1minclude_string\u001b[22m\u001b[22m\u001b[1m(\u001b[22m\u001b[22m::String, ::String\u001b[1m)\u001b[22m\u001b[22m at \u001b[1m./loading.jl:515\u001b[22m\u001b[22m"
     ]
    }
   ],
   "source": []
  },
  {
   "cell_type": "code",
   "execution_count": null,
   "metadata": {},
   "outputs": [],
   "source": []
  }
 ],
 "metadata": {
  "kernelspec": {
   "display_name": "Julia 0.6.0",
   "language": "julia",
   "name": "julia-0.6"
  },
  "language_info": {
   "file_extension": ".jl",
   "mimetype": "application/julia",
   "name": "julia",
   "version": "0.6.0"
  }
 },
 "nbformat": 4,
 "nbformat_minor": 2
}
