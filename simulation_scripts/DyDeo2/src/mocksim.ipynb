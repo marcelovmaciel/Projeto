{
 "cells": [
  {
   "cell_type": "code",
   "execution_count": 1,
   "metadata": {},
   "outputs": [
    {
     "data": {
      "text/plain": [
       "ρ_update! (generic function with 1 method)"
      ]
     },
     "execution_count": 1,
     "metadata": {},
     "output_type": "execute_result"
    }
   ],
   "source": [
    "using NBInclude\n",
    "\n",
    "nbinclude(\"basefns.ipynb\")"
   ]
  },
  {
   "cell_type": "code",
   "execution_count": 2,
   "metadata": {},
   "outputs": [
    {
     "ename": "LoadError",
     "evalue": "\u001b[91mMethodError: no method matching creategraphfrompop(::Array{Agent_o{Int64,Array{Belief{Float64,Int64},1},Float64,Array{Int64,1}},1})\u001b[0m\nClosest candidates are:\n  creategraphfrompop(::Any, \u001b[91m::Any\u001b[39m) at /home/marcelovmaciel/.julia/v0.6/DyDeo2/src/basefns.ipynb:In[+3]:40\u001b[39m",
     "output_type": "error",
     "traceback": [
      "\u001b[91mMethodError: no method matching creategraphfrompop(::Array{Agent_o{Int64,Array{Belief{Float64,Int64},1},Float64,Array{Int64,1}},1})\u001b[0m\nClosest candidates are:\n  creategraphfrompop(::Any, \u001b[91m::Any\u001b[39m) at /home/marcelovmaciel/.julia/v0.6/DyDeo2/src/basefns.ipynb:In[+3]:40\u001b[39m",
      "",
      "Stacktrace:",
      " [1] \u001b[1minclude_string\u001b[22m\u001b[22m\u001b[1m(\u001b[22m\u001b[22m::String, ::String\u001b[1m)\u001b[22m\u001b[22m at \u001b[1m./loading.jl:515\u001b[22m\u001b[22m"
     ]
    }
   ],
   "source": [
    "pop = listofagents(\"mutating o\", 0.1, 1, 2)\n",
    "g = creategraphfrompop(pop)\n",
    "add_neighbors!(pop,g)\n",
    "mg = MetaGraph(g)\n",
    "setmgproperties!(mg,pop)\n",
    "\n"
   ]
  },
  {
   "cell_type": "code",
   "execution_count": 7,
   "metadata": {},
   "outputs": [
    {
     "data": {
      "text/plain": [
       "Agent_o{Int64,Array{Belief{Float64,Int64},1},Float64,Array{Int64,1}}(1, Belief{Float64,Int64}[Belief{Float64,Int64}(0.146964, 0.1, 1)], 0.1469639234783766, [2])"
      ]
     },
     "execution_count": 7,
     "metadata": {},
     "output_type": "execute_result"
    }
   ],
   "source": [
    "pop[1]"
   ]
  },
  {
   "cell_type": "code",
   "execution_count": null,
   "metadata": {},
   "outputs": [],
   "source": [
    "props(mg,1)"
   ]
  },
  {
   "cell_type": "code",
   "execution_count": null,
   "metadata": {},
   "outputs": [],
   "source": [
    "updateibelief!(pop[1], pop, mg,1, 0.9);"
   ]
  },
  {
   "cell_type": "code",
   "execution_count": null,
   "metadata": {},
   "outputs": [],
   "source": [
    "props(mg,1)[:ideology][1].σ"
   ]
  },
  {
   "cell_type": "code",
   "execution_count": null,
   "metadata": {},
   "outputs": [],
   "source": [
    "pop[1].ideo[1].σ"
   ]
  }
 ],
 "metadata": {
  "kernelspec": {
   "display_name": "Julia 0.6.0",
   "language": "julia",
   "name": "julia-0.6"
  },
  "language_info": {
   "file_extension": ".jl",
   "mimetype": "application/julia",
   "name": "julia",
   "version": "0.6.0"
  }
 },
 "nbformat": 4,
 "nbformat_minor": 2
}
