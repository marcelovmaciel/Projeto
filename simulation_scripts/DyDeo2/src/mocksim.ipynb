{
 "cells": [
  {
   "cell_type": "code",
   "execution_count": 1,
   "metadata": {},
   "outputs": [],
   "source": [
    "include(\"DyDeo2.jl\")\n",
    "\n",
    "using DyDeo2\n",
    "\n",
    "dd = DyDeo2\n",
    "\n",
    "using LightGraphs"
   ]
  },
  {
   "cell_type": "code",
   "execution_count": 2,
   "metadata": {},
   "outputs": [],
   "source": [
    "pop = dd.listofagents(\"mutating o\", 0.5, 1, 4)\n",
    "g = dd.creategraphfrompop(pop, CompleteGraph)\n",
    "dd.add_neighbors!(pop,g)\n",
    "\n",
    "\n"
   ]
  },
  {
   "cell_type": "code",
   "execution_count": 3,
   "metadata": {},
   "outputs": [
    {
     "data": {
      "text/plain": [
       "DyDeo2.Agent_o{Int64,Array{DyDeo2.Belief{Float64,Int64},1},Float64,Array{Int64,1}}(1, DyDeo2.Belief{Float64,Int64}[DyDeo2.Belief{Float64,Int64}(0.664732, 0.5, 1)], 0.6647316901894049, [2, 3, 4])"
      ]
     },
     "execution_count": 3,
     "metadata": {},
     "output_type": "execute_result"
    }
   ],
   "source": [
    "pop[1]"
   ]
  },
  {
   "cell_type": "code",
   "execution_count": 4,
   "metadata": {},
   "outputs": [],
   "source": [
    "#=\n",
    "pop1j = dd.getjtointeract(pop[1], pop)\n",
    "whichissue,pop1belief,pop1jbelief = dd.pick_issuebelief(pop[1],pop1j)\n",
    "pop1belief\n",
    "=#"
   ]
  },
  {
   "cell_type": "code",
   "execution_count": 5,
   "metadata": {},
   "outputs": [
    {
     "data": {
      "text/plain": [
       "0.6522424691297133"
      ]
     },
     "execution_count": 5,
     "metadata": {},
     "output_type": "execute_result"
    }
   ],
   "source": [
    "dd.updateibelief!(pop[1],pop,0.9)"
   ]
  },
  {
   "cell_type": "code",
   "execution_count": 6,
   "metadata": {},
   "outputs": [
    {
     "data": {
      "text/plain": [
       "DyDeo2.Agent_o{Int64,Array{DyDeo2.Belief{Float64,Int64},1},Float64,Array{Int64,1}}(1, DyDeo2.Belief{Float64,Int64}[DyDeo2.Belief{Float64,Int64}(0.652242, 0.5, 1)], 0.6522424691297133, [2, 3, 4])"
      ]
     },
     "execution_count": 6,
     "metadata": {},
     "output_type": "execute_result"
    }
   ],
   "source": [
    "pop[1]"
   ]
  },
  {
   "cell_type": "code",
   "execution_count": null,
   "metadata": {},
   "outputs": [],
   "source": [
    "    "
   ]
  }
 ],
 "metadata": {
  "kernelspec": {
   "display_name": "Julia 0.6.0",
   "language": "julia",
   "name": "julia-0.6"
  },
  "language_info": {
   "file_extension": ".jl",
   "mimetype": "application/julia",
   "name": "julia",
   "version": "0.6.0"
  }
 },
 "nbformat": 4,
 "nbformat_minor": 2
}
