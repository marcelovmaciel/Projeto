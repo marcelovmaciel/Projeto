{
 "cells": [
  {
   "cell_type": "markdown",
   "metadata": {},
   "source": [
    "# File with functions to run the simulation and store/plot results\n",
    "\n",
    "This includes:\n",
    "* Fns to store the simulation information;\n",
    "* Fns to update the collections of agent;\n",
    "* Fns to write the results into csvs;\n",
    "* Fns to plot from the csvs;"
   ]
  },
  {
   "cell_type": "markdown",
   "metadata": {},
   "source": [
    "## Types needed for the simulation\n",
    "\n",
    "For the time being I only need the parameters struct."
   ]
  },
  {
   "cell_type": "code",
   "execution_count": 2,
   "metadata": {},
   "outputs": [
    {
     "data": {
      "text/plain": [
       "DyDeoParam"
      ]
     },
     "execution_count": 2,
     "metadata": {},
     "output_type": "execute_result"
    }
   ],
   "source": [
    "@with_kw struct DyDeoParam{R<:Real}\n",
    "    n_issues::Int = 1\n",
    "    size_nw::Int = 2\n",
    "    p::R = 0.9\n",
    "    σ::R = 0.1\n",
    "    time::Int = 2\n",
    "    ρ::R = 0.01\n",
    "    agent_type::String = \"mutating o\"\n",
    "    \n",
    "end\n"
   ]
  },
  {
   "cell_type": "markdown",
   "metadata": {},
   "source": [
    "## Information Storing Fns\n",
    "\n",
    "I'm going to initialize a dataframe and update it at each time step."
   ]
  },
  {
   "cell_type": "code",
   "execution_count": 3,
   "metadata": {},
   "outputs": [
    {
     "data": {
      "text/plain": [
       "update_df! (generic function with 1 method)"
      ]
     },
     "execution_count": 3,
     "metadata": {},
     "output_type": "execute_result"
    }
   ],
   "source": [
    "# going to think about the dataframe for v2. put mean and std uncertainty??\n",
    "function init_df(nw)\n",
    "    copypop = deepcopy(nw)\n",
    "    df = DataFrame(time = Integer[], id  = Integer[], ideology = Array[], ideal_point = Real[], neighbors = Array[])\n",
    "    for agent in copypop\n",
    "        time = 0 \n",
    "        push!(df,[time agent.id  [agent.ideo] agent.idealpoint [agent.neighbors]]) \n",
    "    end\n",
    "    return df\n",
    "end\n",
    "\n",
    "function update_df!(nw,df,time)\n",
    "    copypop = deepcopy(nw)\n",
    "    for agent in copypop\n",
    "        push!(df,[time  agent.id  [agent.ideo] agent.idealpoint [agent.neighbors]])\n",
    "    end\n",
    "    return(df)\n",
    "end\n",
    "\n"
   ]
  },
  {
   "cell_type": "markdown",
   "metadata": {},
   "source": [
    "## Running Functions\n",
    "\n",
    "This includes the following functions:\n",
    "* Fn to update all the agents in population' ; \n",
    "* Fns to run the simulation:\n",
    " * Initialize the population and the metagrah;\n",
    " * Initialize the dataframe;\n",
    " * Update population';\n",
    " * Then update mg;\n",
    " * Then update the dataframe.\n",
    " \n",
    "The output is a dataframe with all the data I need to analyze the simulation afterwards."
   ]
  },
  {
   "cell_type": "code",
   "execution_count": 4,
   "metadata": {},
   "outputs": [
    {
     "data": {
      "text/plain": [
       "pop_update! (generic function with 1 method)"
      ]
     },
     "execution_count": 4,
     "metadata": {},
     "output_type": "execute_result"
    }
   ],
   "source": [
    "function pop_update!(population,metagraph,n_issues,p, σ, ρ)\n",
    "    for agent in population\n",
    "        updateibelief!(agent,population,metagraph,n_issues,p)\n",
    "        ρ_update!(agent, σ, n_issues, ρ)\n",
    "    end\n",
    "    return(population)\n",
    "end\n",
    "\n"
   ]
  },
  {
   "cell_type": "code",
   "execution_count": 5,
   "metadata": {},
   "outputs": [
    {
     "data": {
      "text/plain": [
       "one_run (generic function with 1 method)"
      ]
     },
     "execution_count": 5,
     "metadata": {},
     "output_type": "execute_result"
    }
   ],
   "source": [
    "function create_initdf(agent_type, σ, n_issues, size_nw)\n",
    "    pop = listofagents(agent_type, σ, n_issues, size_nw)\n",
    "    g = creategraphfrompop(pop)\n",
    "    add_neighbors!(pop,g)\n",
    "    mg = MetaGraph(g)\n",
    "    setmgproperties!(mg,pop)\n",
    "    df = init_df(pop)\n",
    "    return(df,mg,pop)\n",
    "end\n",
    "\n",
    "function runsim!(pop,df,mg,n_issues,p,σ,ρ,time)\n",
    "    @showprogress 1 \"Computing...\" for step in 1:time\n",
    "        pop_update!(pop, mg, n_issues, p, σ, ρ)\n",
    "        setmgproperties!(mg,pop)\n",
    "        update_df!(pop,df,step)\n",
    "    end \n",
    "    return(df)\n",
    "end\n",
    "\n",
    "\n",
    "\n",
    "function one_run(pa::DyDeoParam)\n",
    "    @unpack n_issues, size_nw, p, σ, time, ρ, agent_type = pa\n",
    "    df,mg,pop = create_initdf(agent_type, σ, n_issues, size_nw)\n",
    "    df = runsim!(pop,df,mg,n_issues,p,σ,ρ,time)\n",
    "    return(df)\n",
    "end\n",
    "    \n"
   ]
  },
  {
   "cell_type": "markdown",
   "metadata": {},
   "source": [
    "## Plotting Functions\n",
    "\n",
    "I'm gonna create an output csv, and those plot functions will plot data from it.\n",
    "\n",
    "* Plot time series of ideal points\n",
    "* Plot histogram of a given time\n",
    "* Plot mg of a given time: coloured vertex!!!"
   ]
  },
  {
   "cell_type": "code",
   "execution_count": 6,
   "metadata": {},
   "outputs": [
    {
     "data": {
      "text/plain": [
       "mkimdir (generic function with 1 method)"
      ]
     },
     "execution_count": 6,
     "metadata": {},
     "output_type": "execute_result"
    }
   ],
   "source": [
    "function time_plot(which_df, n_issues, nagents, p, σ, ρ, agent_type)\n",
    "\n",
    "    \n",
    "    xlab = string(\"Time\")\n",
    "    ylab = string(\"Ideal Point\") \n",
    "\n",
    "    @df which_df plot(:time,[:ideal_point],\n",
    "                      group = :id,\n",
    "                      dpi = 120, color = :black,\n",
    "                      xlabel = xlab, ylabel = ylab,\n",
    "                      α = 0.3)\n",
    "    savefig(\"images/atype($(agent_type))_n($(nagents))_nissues($(n_issues))_p($(p))_sigma($(σ))_rho($(ρ))_tseries.png\")\n",
    "end\n",
    "\n",
    "\n",
    "function mkimdir()\n",
    "    !(\"images\" in readdir(pwd())) ? mkdir(\"images\"): println(\"dir images exists... no need to create one \")\n",
    "end\n",
    "\n"
   ]
  },
  {
   "cell_type": "code",
   "execution_count": null,
   "metadata": {},
   "outputs": [],
   "source": []
  }
 ],
 "metadata": {
  "kernelspec": {
   "display_name": "Julia 0.6.0",
   "language": "julia",
   "name": "julia-0.6"
  },
  "language_info": {
   "file_extension": ".jl",
   "mimetype": "application/julia",
   "name": "julia",
   "version": "0.6.0"
  }
 },
 "nbformat": 4,
 "nbformat_minor": 2
}
