{
 "cells": [
  {
   "cell_type": "markdown",
   "metadata": {},
   "source": [
    "# File with  base functions/types for my simulation\n",
    "\n",
    "This includes:\n",
    "* Types for Beliefs and Agents;\n",
    "* Functions to create agents;\n",
    "* Functions to create the network;\n",
    "* Functions to update the agents' beliefs;\n",
    "* Functions to store the simulation information"
   ]
  },
  {
   "cell_type": "code",
   "execution_count": 1,
   "metadata": {},
   "outputs": [],
   "source": [
    "using LightGraphs, MetaGraphs, GraphPlot, Distributions, DataFrames"
   ]
  },
  {
   "cell_type": "markdown",
   "metadata": {},
   "source": [
    "## Type declarations\n",
    "\n",
    "The code primary elements are the the Belief and Agent types. A belief is a pair $(\\sigma, \\mu)$ of uncertainty and expected value of a distribution about a issue. So the type Belief has 3 fields. An Agent will have an id, a set of beliefs, an ideal point (which will be the mean of its opinions $\\mu = o $ ) and a set of neighbors. The opinion will be generated from an Uniform(0,1) distribution, while the uncertainty will be , _in this version_, a global var."
   ]
  },
  {
   "cell_type": "code",
   "execution_count": 2,
   "metadata": {},
   "outputs": [],
   "source": [
    "#Structs for Agents and Beliefs --------------------\n",
    "\n",
    "abstract type  AbstractAgent end\n",
    "abstract type AbstractBelief end \n",
    "\n",
    "\n",
    "mutable struct Belief{T1 <: Real, T2 <: Integer}\n",
    "    o::T1\n",
    "    σ::T1\n",
    "    whichissue::T2\n",
    "end\n",
    "\n",
    "mutable struct Agent{T1 <: Integer, T2 <: Vector, T3 <: Real, T4 <: Vector} <: AbstractAgent\n",
    "    id::T1\n",
    "    ideo::T2\n",
    "    idealpoint::T3\n",
    "    neighbors::T4\n",
    "end\n"
   ]
  },
  {
   "cell_type": "markdown",
   "metadata": {},
   "source": [
    "## Constructors for Beliefs, Agents and Graphs"
   ]
  },
  {
   "cell_type": "code",
   "execution_count": 3,
   "metadata": {},
   "outputs": [
    {
     "data": {
      "text/plain": [
       "setmgproperties! (generic function with 1 method)"
      ]
     },
     "execution_count": 3,
     "metadata": {},
     "output_type": "execute_result"
    }
   ],
   "source": [
    "function create_belief(σ::Real, issue::Integer)\n",
    "    o = rand(Uniform())\n",
    "    belief = Belief(o, σ, issue)\n",
    "end\n",
    "\n",
    "function create_idealpoint(ideology)\n",
    "    opinions = []\n",
    "    for issue in ideology\n",
    "        push!(opinions,issue.o)\n",
    "    end\n",
    "    ideal_point = mean(opinions)\n",
    "end\n",
    "\n",
    "function create_agent(n_issues::Integer, id::Integer, σ::Real)\n",
    "    ideology = [create_belief(σ, issue) for issue in 1:n_issues ]\n",
    "    idealpoint = create_idealpoint(ideology)\n",
    "    agent = Agent(id,ideology, idealpoint,[0])\n",
    "end\n",
    "\n",
    "function listofagents(σ::Real,  n_issues::Integer, size::Integer)\n",
    "    population = [create_agent(n_issues,i,σ) for i in 1:size]\n",
    "end\n",
    "\n",
    "\n",
    "function add_neighbors!(pop, nw)\n",
    "    for i in pop\n",
    "        i.neighbors = neighbors(nw,i.id)\n",
    "    end\n",
    "end\n",
    "\n",
    "function creategraphfrompop(pop)\n",
    "    graphsize = length(pop)\n",
    "    nw = CompleteGraph(graphsize)\n",
    "    return(nw)\n",
    "end\n",
    "\n",
    "\n",
    "function setmgproperties!(mg::MetaGraph, pop)\n",
    "    for i in pop\n",
    "        set_props!(mg, i.id, Dict(:id => i.id, \n",
    "                :ideology => i.ideo,\n",
    "                :idealpoint => i.idealpoint, \n",
    "                :neighbors => i.neighbors))\n",
    "    end\n",
    "end"
   ]
  },
  {
   "cell_type": "markdown",
   "metadata": {},
   "source": [
    "## Interaction functions"
   ]
  },
  {
   "cell_type": "code",
   "execution_count": 4,
   "metadata": {},
   "outputs": [
    {
     "data": {
      "text/plain": [
       "pick_issuebelief (generic function with 1 method)"
      ]
     },
     "execution_count": 4,
     "metadata": {},
     "output_type": "execute_result"
    }
   ],
   "source": [
    "function getjtointeract(i::Agent, metagraph)\n",
    "    j = rand(props(metagraph, i.id)[:neighbors])\n",
    "end\n",
    "\n",
    "#Input = two agents; Output = a issue and associated beliefs\n",
    "function pick_issuebelief(i::Agent, j::Agent, n_issues::Integer)\n",
    "    issue_belief = rand(1:n_issues)\n",
    "    i_belief = i.ideo[issue_belief]\n",
    "    j_belief = j.ideo[issue_belief]\n",
    "    return(issue_belief, i_belief, j_belief)\n",
    "end"
   ]
  },
  {
   "cell_type": "code",
   "execution_count": 7,
   "metadata": {},
   "outputs": [],
   "source": [
    "population = listofagents(0.1, 2, 10)\n",
    "g = creategraphfrompop(population)\n",
    "add_neighbors!(population,g)\n",
    "mg = MetaGraph(g)\n",
    "setmgproperties!(mg,population)\n",
    "\n",
    "\n"
   ]
  },
  {
   "cell_type": "code",
   "execution_count": 8,
   "metadata": {},
   "outputs": [
    {
     "data": {
      "text/plain": [
       "Dict{Symbol,Any} with 4 entries:\n",
       "  :ideology   => Belief{Float64,Int64}[Belief{Float64,Int64}(0.342196, 0.1, 1), Belief{Float64,Int64}(0.210104, 0.1, 2)]\n",
       "  :id         => 1\n",
       "  :neighbors  => [2, 3, 4, 5, 6, 7, 8, 9, 10]\n",
       "  :idealpoint => 0.27615"
      ]
     },
     "execution_count": 8,
     "metadata": {},
     "output_type": "execute_result"
    }
   ],
   "source": [
    "props(mg, 1)"
   ]
  },
  {
   "cell_type": "code",
   "execution_count": null,
   "metadata": {},
   "outputs": [],
   "source": [
    "\n",
    "\n",
    "    "
   ]
  }
 ],
 "metadata": {
  "kernelspec": {
   "display_name": "Julia 0.6.0",
   "language": "julia",
   "name": "julia-0.6"
  },
  "language_info": {
   "file_extension": ".jl",
   "mimetype": "application/julia",
   "name": "julia",
   "version": "0.6.0"
  }
 },
 "nbformat": 4,
 "nbformat_minor": 2
}
